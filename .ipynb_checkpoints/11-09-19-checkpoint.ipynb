{
 "cells": [
  {
   "cell_type": "markdown",
   "metadata": {},
   "source": [
    "=>reverse of a number"
   ]
  },
  {
   "cell_type": "code",
   "execution_count": 15,
   "metadata": {},
   "outputs": [
    {
     "name": "stdout",
     "output_type": "stream",
     "text": [
      "1998\n",
      "8991\n"
     ]
    },
    {
     "data": {
      "text/plain": [
       "int"
      ]
     },
     "execution_count": 15,
     "metadata": {},
     "output_type": "execute_result"
    }
   ],
   "source": [
    "n=input()\n",
    "a=n[::-1]\n",
    "int(a)\n",
    "a=int(a)\n",
    "print(a)\n",
    "type(a)"
   ]
  },
  {
   "cell_type": "markdown",
   "metadata": {},
   "source": [
    "=>special numbers in range"
   ]
  },
  {
   "cell_type": "code",
   "execution_count": 7,
   "metadata": {},
   "outputs": [
    {
     "name": "stdout",
     "output_type": "stream",
     "text": [
      "29\n",
      "special\n"
     ]
    }
   ],
   "source": [
    "n=input()\n",
    "s=0\n",
    "p=1\n",
    "for i in n:\n",
    "        s=s+int(i)\n",
    "        p=p*int(i)\n",
    "        res=s+p\n",
    "if res==int(n):\n",
    "     print(\"special\")\n",
    "else:\n",
    "     print(\"not special\")"
   ]
  },
  {
   "cell_type": "markdown",
   "metadata": {},
   "source": [
    "=>perfect number"
   ]
  },
  {
   "cell_type": "code",
   "execution_count": 3,
   "metadata": {},
   "outputs": [
    {
     "name": "stdout",
     "output_type": "stream",
     "text": [
      "1\n",
      "100\n",
      "6\n",
      "28\n"
     ]
    }
   ],
   "source": [
    "lb=int(input())\n",
    "ub=int(input())\n",
    "f=0\n",
    "def findFactor(n,f):\n",
    "    for i in range(1,n):\n",
    "        if n%i==0:\n",
    "            f=f+i\n",
    "    if f==n:\n",
    "        print(n)\n",
    "for k in range(lb,ub+1):\n",
    "    findFactor(k,f)\n",
    "    "
   ]
  },
  {
   "cell_type": "markdown",
   "metadata": {},
   "source": [
    "=>FREQ OF STRING"
   ]
  },
  {
   "cell_type": "code",
   "execution_count": 7,
   "metadata": {},
   "outputs": [
    {
     "name": "stdout",
     "output_type": "stream",
     "text": [
      "ENTER A STRINGsaikrishna ia as saikrishna\n",
      "saikrishna -> 2\n",
      "saikrishna -> 2\n",
      "saikrishna -> 2\n",
      "saikrishna -> 2\n"
     ]
    }
   ],
   "source": [
    "N=input(\"ENTER A STRING\")\n",
    "S=N.split()\n",
    "D={}\n",
    "for I in S:\n",
    "    D[I]=N.count(I)\n",
    "    M=max(D.values())\n",
    "    for K in D:\n",
    "        if M==D[K]:\n",
    "            print(K,\"->\",M)"
   ]
  },
  {
   "cell_type": "markdown",
   "metadata": {},
   "source": [
    "=>prime numbers"
   ]
  },
  {
   "cell_type": "code",
   "execution_count": 1,
   "metadata": {},
   "outputs": [
    {
     "name": "stdout",
     "output_type": "stream",
     "text": [
      "1\n",
      "10\n",
      "2\n",
      "3\n",
      "5\n",
      "7\n"
     ]
    }
   ],
   "source": [
    "lb=int(input())\n",
    "ub=int(input())\n",
    "f=0\n",
    "def findFactor(n,f):\n",
    "    for i in range(1,n):\n",
    "        if n%i==0:\n",
    "            f=f+i\n",
    "    if f==1:\n",
    "        print(n)\n",
    "for k in range(lb,ub+1):\n",
    "    findFactor(k,f)\n",
    "    "
   ]
  },
  {
   "cell_type": "code",
   "execution_count": null,
   "metadata": {},
   "outputs": [],
   "source": []
  }
 ],
 "metadata": {
  "kernelspec": {
   "display_name": "Python 3",
   "language": "python",
   "name": "python3"
  },
  "language_info": {
   "codemirror_mode": {
    "name": "ipython",
    "version": 3
   },
   "file_extension": ".py",
   "mimetype": "text/x-python",
   "name": "python",
   "nbconvert_exporter": "python",
   "pygments_lexer": "ipython3",
   "version": "3.7.3"
  }
 },
 "nbformat": 4,
 "nbformat_minor": 2
}
