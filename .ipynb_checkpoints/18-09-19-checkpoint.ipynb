{
 "cells": [
  {
   "cell_type": "markdown",
   "metadata": {},
   "source": [
    "=>7 segment display"
   ]
  },
  {
   "cell_type": "code",
   "execution_count": 19,
   "metadata": {},
   "outputs": [
    {
     "name": "stdout",
     "output_type": "stream",
     "text": [
      "1\n",
      "123\n",
      "2\n",
      "5\n",
      "5\n",
      "12\n"
     ]
    }
   ],
   "source": [
    "t=int(input())\n",
    "c=0\n",
    "d={'0':6,'1':2,'2':5,'3':5,'4':4,'5':5,'6':6,'7':3,'8':7,'9':6}\n",
    "for i in range(t):\n",
    "    s=input()\n",
    "    for b in s:\n",
    "        print(d[b])\n",
    "        c=c+d[b]\n",
    "    print(c)"
   ]
  },
  {
   "cell_type": "markdown",
   "metadata": {},
   "source": [
    "=>graph problem"
   ]
  },
  {
   "cell_type": "code",
   "execution_count": 37,
   "metadata": {},
   "outputs": [
    {
     "name": "stdout",
     "output_type": "stream",
     "text": [
      "LLRDU\n",
      "-1 0\n"
     ]
    }
   ],
   "source": [
    "c=input()\n",
    "x=0\n",
    "y=0\n",
    "for i in c:\n",
    "    if i=='L':\n",
    "        x=x-1\n",
    "    elif i=='R':\n",
    "        x=x+1\n",
    "    elif i=='U':\n",
    "        y=y+1\n",
    "    elif i=='D':\n",
    "        y=y-1\n",
    "print(x,y)\n",
    " \n"
   ]
  },
  {
   "cell_type": "markdown",
   "metadata": {},
   "source": [
    "=>files"
   ]
  },
  {
   "cell_type": "code",
   "execution_count": 34,
   "metadata": {},
   "outputs": [],
   "source": [
    "filepath=\"./files/sample.txt\"\n",
    "with open(filepath,'w') as f :\n",
    "    f.write(\"this is my name\")\n"
   ]
  },
  {
   "cell_type": "code",
   "execution_count": null,
   "metadata": {},
   "outputs": [],
   "source": []
  }
 ],
 "metadata": {
  "kernelspec": {
   "display_name": "Python 3",
   "language": "python",
   "name": "python3"
  },
  "language_info": {
   "codemirror_mode": {
    "name": "ipython",
    "version": 3
   },
   "file_extension": ".py",
   "mimetype": "text/x-python",
   "name": "python",
   "nbconvert_exporter": "python",
   "pygments_lexer": "ipython3",
   "version": "3.7.3"
  }
 },
 "nbformat": 4,
 "nbformat_minor": 2
}
